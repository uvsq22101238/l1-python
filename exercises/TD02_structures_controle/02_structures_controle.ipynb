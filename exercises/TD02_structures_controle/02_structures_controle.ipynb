{
 "cells": [
  {
   "cell_type": "markdown",
   "metadata": {
    "slideshow": {
     "slide_type": "slide"
    }
   },
   "source": [
    "# TD 2: Les structures de contrôle\n",
    "\n",
    "---\n",
    "\n",
    "## 0. Récupération des nouveaux documents\n",
    "\n",
    "\n",
    "Les sujets de TD ainsi que les supports de cours sont publiés en ligne au fur et à mesure sur l'espace github original [https://github.com/uvsq-info/l1-python](https://github.com/uvsq-info/l1-python). Au moment où vous avez fait le fork de cet espace sur votre espace personnel, il est probable que tous les contenus n'étaient pas présents. Pour compléter votre espace, deux solutions sont possibles:\n",
    "\n",
    "\n",
    "1. (solution à privilégier) aller sur la page du projet original [https://github.com/uvsq-info/l1-python](https://github.com/uvsq-info/l1-python), et cliquer sur le bouton vert `Code` en haut à droite. Choisir `download ZIP`, puis extraire l'ensemble des nouveaux fichiers vers votre projet personnel local. Vous pouvez ensuite sauvegarder ces ajouts dans votre espace github personnel en suivant la procédure habituelle.\n",
    "2. (solution qui présente des risques de conflits entre différentes versions d'un même document) en ligne de commande dans le terminal, en suivant la procédure de la section *Intégrer les mises à jour du projet original* du fichier [README.md](https://github.com/uvsq-info/l1-python/blob/master/README.md#int%C3%A9grer-les-mises-%C3%A0-jour-du-projet-original)\n"
   ]
  },
  {
   "cell_type": "markdown",
   "metadata": {
    "slideshow": {
     "slide_type": "slide"
    }
   },
   "source": [
    "---\n",
    "\n",
    "## 1. Premiers exercices avec les structures conditionnelles\n",
    "\n",
    "**Exercice 1:**\n",
    "\n",
    "1. Soit *num1 = 15* et *num2 = 5*. Ecrire un programme qui affiche *Factors!* si l'un des nombres est un facteur de l'autre (c'est-à-dire qu'il divise l'autre nombre). Si aucun des nombres n'est un facteur de l'autre, le programme n'affiche rien.\n",
    "2. Changer le code que vous avez écrit de telle sorte qu'il affiche toujours *Factors!* si un nombre est un facteur de l'autre, mais qui affiche aussi *Not factors!* si aucun des nombres n'est un facteur de l'autre."
   ]
  },
  {
   "cell_type": "code",
   "execution_count": 9,
   "metadata": {
    "slideshow": {
     "slide_type": "notes"
    }
   },
   "outputs": [
    {
     "name": "stdout",
     "output_type": "stream",
     "text": [
      "Factors!\n"
     ]
    }
   ],
   "source": [
    "num1 = 15\n",
    "num2 = 5\n",
    "if num1 % num2 == 0 or num2 % num1 == 0 :\n",
    "    print(\"Factors!\")  # il faut indenter le print on appelle cela une indentation  "
   ]
  },
  {
   "cell_type": "code",
   "execution_count": 10,
   "metadata": {},
   "outputs": [
    {
     "name": "stdout",
     "output_type": "stream",
     "text": [
      "Factors!\n"
     ]
    }
   ],
   "source": [
    "num1 = 15\n",
    "num2 = 5\n",
    "if num1%num2 == 0:\n",
    "    print(\"Factors!\")\n",
    "else:               # SI LA PROF NE DIT PAS D'AFFICHER \"LE CONTRAIRE\"/ LE \"ELSE\" IL FAUT RIEN METTRE\n",
    "    print(\"Not Factors!\")        # on mets le else que si la consigne le dit "
   ]
  },
  {
   "cell_type": "markdown",
   "metadata": {
    "slideshow": {
     "slide_type": "slide"
    }
   },
   "source": [
    "**Exercice 2:**\n",
    "    \n",
    "Soit *state = \"Georgia\"*. Ecrire un programme qui permet d'afficher un message spécifique en fonction de la variable *state* :  \n",
    "* \"School isn't cancelled.\" si nous sommes à New Jersey,  \n",
    "* \"School is postponed.\" si nous sommes à North Carolina,\n",
    "* \"School is cancelled!\" si nous sommes à Georgia,  \n",
    "* \"School's status is unknown\" si nous ne sommes pas dans un des trois états précédemment mentionnés."
   ]
  },
  {
   "cell_type": "code",
   "execution_count": 7,
   "metadata": {
    "slideshow": {
     "slide_type": "notes"
    }
   },
   "outputs": [
    {
     "name": "stdout",
     "output_type": "stream",
     "text": [
      "School is canceled\n"
     ]
    }
   ],
   "source": [
    "state = \"Georgia\"\n",
    "if state == \"New Jersey\" :\n",
    "   print(\"School isn't cancelled.\")\n",
    "elif state == \"North Carolina\" :\n",
    "     print(\"School is postponed\")\n",
    "elif state == \"Georgia\" :\n",
    "     print(\"School is canceled\")\n",
    "else : \n",
    "    print(\"School's status is unknow\")"
   ]
  },
  {
   "cell_type": "code",
   "execution_count": 11,
   "metadata": {},
   "outputs": [
    {
     "name": "stdout",
     "output_type": "stream",
     "text": [
      "School is postponed\n",
      "School's status is unknow\n"
     ]
    }
   ],
   "source": [
    "state = \"Georgia\"\n",
    "if state == \"New Jersey\" :\n",
    "   print(\"School isn't cancelled.\")\n",
    "if state == \"Georgia\" :\n",
    "     print(\"School is postponed\")\n",
    "if state == \"North Carolina\" :\n",
    "     print(\"School is canceled\")\n",
    "else : \n",
    "    print(\"School's status is unknow\")"
   ]
  },
  {
   "cell_type": "markdown",
   "metadata": {
    "slideshow": {
     "slide_type": "slide"
    }
   },
   "source": [
    "**Exercice 3:**\n",
    "\n",
    "Ecrire un programme pour découvrir le signe du zodiaque chinois pour une année donnée. Le signe du zodiaque chinois est basé sur un cycle de 12 ans et chaque année de ce cycle est représentée par un animal :\n",
    "* 0: monkey\n",
    "* 1: rooster\n",
    "* 2: dog\n",
    "* 3: pig\n",
    "* 4: rat\n",
    "* 5: ox\n",
    "* 6: tiger\n",
    "* 7: rabbit\n",
    "* 8: dragon\n",
    "* 9: snake\n",
    "* 10: horse\n",
    "* 11: sheep\n",
    "\n",
    "La valeur de l'année % 12 détermine le signe du zodiaque. Par exemple, 1900 est l'année du *rat* puisque 1900 % 12 est 4."
   ]
  },
  {
   "cell_type": "code",
   "execution_count": 17,
   "metadata": {
    "slideshow": {
     "slide_type": "notes"
    }
   },
   "outputs": [
    {
     "name": "stdout",
     "output_type": "stream",
     "text": [
      "monkey\n"
     ]
    }
   ],
   "source": [
    "année = int(input(\"veuillez entrer une annéee\"))\n",
    "p = année % 12\n",
    "if p == 0 :\n",
    "   print(\"monkey\")\n",
    "elif p == 1 :\n",
    "   print(\"rooster\")\n",
    "elif p == 2 : \n",
    "     print(\"dog\")\n",
    "elif p == 3 :\n",
    "   print(\"pig\")\n",
    "elif p == 4 :\n",
    "   print(\"rat\")\n",
    "elif p == 5 : \n",
    "     print(\"ox\")\n",
    "elif p == 6 :\n",
    "   print(\"tiger\")\n",
    "elif p == 7 :\n",
    "   print(\"rabbit\")\n",
    "elif p == 8 :\n",
    "     print(\"dragon\") \n",
    "elif p == 9 :\n",
    "   print(\"snake\")\n",
    "elif p == 10 :\n",
    "   print(\"horse\")\n",
    "elif p == 11 : \n",
    "     print(\"sheep\")  \n",
    "           "
   ]
  },
  {
   "cell_type": "markdown",
   "metadata": {
    "slideshow": {
     "slide_type": "slide"
    }
   },
   "source": [
    "**Exercice 4:**\n",
    "\n",
    "Soit *temperature = -3.7* et *celsius = True*. *celsius* est une variable booléenne qui indique si la température est en Celsius; si c'est *False*, alors la température donnée est en Fahrenheit. Ecrire un premier programme en utilisant *if-else* seulement qui permet d'afficher *Freezing* si les valeurs données représentent une température très basse, et *Not freezing* si ce n'est pas le cas. En Celsius, on considère qu'il fait très froid lorsque la température est inférieure ou égale à 0 degré. En Fahrenheit, on considère qu'il fait très froid lorsque la température est inférieure ou égale à 32 degrés. Proposer une seconde solution en utilisant *if-elif-else* à ce même problème."
   ]
  },
  {
   "cell_type": "code",
   "execution_count": 24,
   "metadata": {
    "slideshow": {
     "slide_type": "notes"
    }
   },
   "outputs": [
    {
     "name": "stdout",
     "output_type": "stream",
     "text": [
      "Freezing\n"
     ]
    }
   ],
   "source": [
    "temperature = -3.7 \n",
    "celsius = True # ATTENTION pas de \"\" car c'est pas un str c'est un bool ATTENTION \n",
    "if (temperature <= 0 and celsius) or (not celsius and temperature >= 32) :\n",
    "# 1er condition il faut mtn la condition celsius car <= 0 que SI T en C° et pas F° donc = not C° car on a pas defini F°\n",
    "   print(\"Freezing\")\n",
    "else :\n",
    "    print(\" Not Freezing\")    "
   ]
  },
  {
   "cell_type": "code",
   "execution_count": 22,
   "metadata": {},
   "outputs": [
    {
     "name": "stdout",
     "output_type": "stream",
     "text": [
      "True\n"
     ]
    }
   ],
   "source": [
    "temperature = -3.7\n",
    "celsius = temperature # 10C°=50.00000F° ou alors on a F°=C°x1.8+32 PAS BESOIN VOIR CORRECTION EN HAUT\n",
    "if temperature == celsius : \n",
    "    print(\"True\")\n",
    "else :\n",
    "    print(\"False\")    "
   ]
  },
  {
   "cell_type": "code",
   "execution_count": 27,
   "metadata": {},
   "outputs": [
    {
     "name": "stdout",
     "output_type": "stream",
     "text": [
      "Freezing\n"
     ]
    }
   ],
   "source": [
    "temperature = -3.7 \n",
    "celsius = True  \n",
    "if temperature <= 0 and celsius :\n",
    "   print(\"Freezing\")\n",
    "elif not celsius and temperature >= 32 :\n",
    "    print(\"Freezing\")\n",
    "else :\n",
    "    print(\" Not Freezing\")    "
   ]
  },
  {
   "cell_type": "markdown",
   "metadata": {
    "slideshow": {
     "slide_type": "slide"
    }
   },
   "source": [
    "**Exercice 5:**\n",
    "    \n",
    "Ecrire un programme qui permet de déterminer si une année est bissextile ou non en utilisant une seule instruction *if-else*. Une année *A* est bissextile si *A* est divisible par 4. Elle ne l’est cependant pas si *A* est un multiple\n",
    "de 100, à moins que *A* ne soit multiple de 400.    "
   ]
  },
  {
   "cell_type": "code",
   "execution_count": 33,
   "metadata": {},
   "outputs": [
    {
     "name": "stdout",
     "output_type": "stream",
     "text": [
      "l'année n'est pas bissextile\n"
     ]
    }
   ],
   "source": [
    "annéeA = int(input(\"veuillez entrer une année\"))\n",
    "if annéeA % 4 == 0 or annéeA % 400 == 0 and annéeA%100 !=0 :\n",
    "   print(\"l'année est bissextile\")\n",
    "else :\n",
    "    print(\"l'année n'est pas bissextile\")   "
   ]
  },
  {
   "cell_type": "code",
   "execution_count": null,
   "metadata": {
    "slideshow": {
     "slide_type": "notes"
    }
   },
   "outputs": [],
   "source": [
    "annéeA = int(input(\"veuillez entrer une année\"))\n",
    "if annéeA % 4 == 0 or annéeA % 400 == 0 :\n",
    "   print(\"l'année est bissextile\")\n",
    "else :\n",
    "    print(\"l'année n'est pas bissextile\")   "
   ]
  },
  {
   "cell_type": "code",
   "execution_count": 6,
   "metadata": {},
   "outputs": [
    {
     "name": "stdout",
     "output_type": "stream",
     "text": [
      "l'année n'est pas bissextile\n"
     ]
    }
   ],
   "source": [
    "annéeA = int(input(\"veuillez entrer une année\"))\n",
    "if annéeA % 4 == 0 or annéeA % 400 == 0 :\n",
    "   print(\"l'année est bissextile\")\n",
    "elif annéeA % 100 !=0 :\n",
    "    print(\"l'année n'est pas bissextile\") "
   ]
  },
  {
   "cell_type": "markdown",
   "metadata": {},
   "source": [
    "---\n",
    "\n",
    "## 2. Premiers exercices avec les structures itératives\n",
    "\n",
    "**Exercice 6:**\n",
    "\n",
    "1. Ecrire un programme qui permet d'afficher tous les nombres entre 1 et 10 (bornes incluses).\n",
    "2. Ecrire un programme se limitant à la boucle *for* qui permet d'afficher tous les nombres pairs entre 1 et 20 (bornes incluses). Proposer une deuxième solution en incluant une structure conditionnelle."
   ]
  },
  {
   "cell_type": "code",
   "execution_count": 25,
   "metadata": {},
   "outputs": [
    {
     "name": "stdout",
     "output_type": "stream",
     "text": [
      "1\n",
      "2\n",
      "3\n",
      "4\n",
      "5\n",
      "6\n",
      "7\n",
      "8\n",
      "9\n",
      "10\n"
     ]
    }
   ],
   "source": [
    "for i in range (1,11) : \n",
    "    print(i)"
   ]
  },
  {
   "cell_type": "code",
   "execution_count": 38,
   "metadata": {},
   "outputs": [
    {
     "name": "stdout",
     "output_type": "stream",
     "text": [
      "2\n",
      "4\n",
      "6\n",
      "8\n",
      "10\n",
      "12\n",
      "14\n",
      "16\n",
      "18\n",
      "20\n"
     ]
    }
   ],
   "source": [
    "for i in range (2,21,2) : # on commence pas par 0 car c'est pas un nb pair\n",
    "    print(i)"
   ]
  },
  {
   "cell_type": "code",
   "execution_count": 38,
   "metadata": {},
   "outputs": [
    {
     "name": "stdout",
     "output_type": "stream",
     "text": [
      "2\n",
      "4\n",
      "6\n",
      "8\n",
      "10\n",
      "12\n",
      "14\n",
      "16\n",
      "18\n",
      "20\n"
     ]
    }
   ],
   "source": [
    "for i in range (1,21) : \n",
    " if i % 2 == 0 :\n",
    "    print(i)  # si on veut utiliser le \"continue\" il faut le mettre à la place du print et mettre le print nn indenté"
   ]
  },
  {
   "cell_type": "code",
   "execution_count": 37,
   "metadata": {},
   "outputs": [
    {
     "name": "stdout",
     "output_type": "stream",
     "text": [
      "2\n",
      "4\n",
      "6\n",
      "8\n",
      "10\n",
      "12\n",
      "14\n",
      "16\n",
      "18\n",
      "20\n"
     ]
    }
   ],
   "source": [
    "for i in range (1,21) : \n",
    " if i % 2 != 0 :\n",
    "    continue  # = je reboucle on regarde pas ce qu'il y a sous continue 1 ok puis 2 pair donc on quitte le if on fait print puis on recommence la boucle avec le 3 4 ...\n",
    " print(i)  "
   ]
  },
  {
   "cell_type": "markdown",
   "metadata": {},
   "source": [
    "**Exercice 7:**\n",
    "    \n",
    "1. Ecrire un programme qui demande à l'utilisateur de saisir *n* nombres, *n* étant choisi par l'utilisateur, puis d'afficher la moyenne de ces nombres.\n",
    "\n",
    "2. Même question, mais l'utilisateur ne choisit pas à l'avance le nombre *n*, la procédure s'arrête quand il saisit le nombre -1.\n"
   ]
  },
  {
   "cell_type": "code",
   "execution_count": 48,
   "metadata": {},
   "outputs": [
    {
     "name": "stdout",
     "output_type": "stream",
     "text": [
      "2\n",
      "4\n",
      "La moyenne est de  2.0\n"
     ]
    }
   ],
   "source": [
    "nombres_n = int(input(\"Combien de nombre veux-tu entrer ? \"))\n",
    "tot = 0\n",
    "for nombre in range (nombres_n) : # nombre c'st pas une variable C'EST un élément de nombres_n\n",
    "    l = int(input(\"Saisir des nombres\"))\n",
    "    tot += l\n",
    "    print(tot)\n",
    "    moyenne = tot/nombres_n\n",
    "print(\"La moyenne est de \", moyenne)    \n",
    "\n"
   ]
  },
  {
   "cell_type": "code",
   "execution_count": 50,
   "metadata": {},
   "outputs": [
    {
     "name": "stdout",
     "output_type": "stream",
     "text": [
      "3.0\n"
     ]
    }
   ],
   "source": [
    "# CORRECTION\n",
    "n = int(input(\"Nombre de note\")) \n",
    "t = 0\n",
    "for i in range (0, n) :\n",
    "    t +=  int(input(\"note\"))\n",
    "print(t/n)  "
   ]
  },
  {
   "cell_type": "code",
   "execution_count": 69,
   "metadata": {},
   "outputs": [
    {
     "name": "stdout",
     "output_type": "stream",
     "text": [
      "Erreur\n"
     ]
    }
   ],
   "source": [
    "tot = 0\n",
    "nombres_saisis = 0\n",
    "nombres_n = 0\n",
    "while nombres_saisis != -1 :  \n",
    "    nombres_saisis = int(input(\"Saisir des nombres\")) \n",
    "    if nombres_saisis != -1 :\n",
    "      tot += nombres_saisis\n",
    "      nombres_n += 1\n",
    "if nombres_n == 0 :\n",
    "        print(\"Erreur\")\n",
    "else :         \n",
    "  print(\"La moyenne est de\", tot/nombres_n)"
   ]
  },
  {
   "cell_type": "code",
   "execution_count": 74,
   "metadata": {},
   "outputs": [
    {
     "name": "stdout",
     "output_type": "stream",
     "text": [
      "Erreur\n"
     ]
    }
   ],
   "source": [
    "sum = 0\n",
    "n = 0\n",
    "NS = 0\n",
    "while True : # boucle infini car on a pas declarer de variable avec true avant\n",
    "    NS = int(input(\"Saisir un nombre\"))\n",
    "    if NS == -1 :\n",
    "      break # on sort de la boucle while\n",
    "    sum += NS\n",
    "    n += 1\n",
    "if nombres_n == 0 : # ne pas oublier car si =0 division impossible\n",
    "        print(\"Erreur\")\n",
    "else :      \n",
    " print(sum/n)    "
   ]
  },
  {
   "cell_type": "markdown",
   "metadata": {},
   "source": [
    "**Exercice 8:**\n",
    "\n",
    "Ecrire un programme qui permet de calculer le factoriel d'un nombre positif donné par l'utlisateur selon la formule suivante : \n",
    "n! = 1 x 2 x ... x n.  \n",
    "\n",
    "1. Une première version en utilisant la boucle *for*\n",
    "2. Une seconde version en utilisant la boucle *while*"
   ]
  },
  {
   "cell_type": "code",
   "execution_count": 76,
   "metadata": {},
   "outputs": [
    {
     "name": "stdout",
     "output_type": "stream",
     "text": [
      "Le factorielle de 6 est 720\n"
     ]
    }
   ],
   "source": [
    "n = int(input(\"saisir un nombre > 0\"))\n",
    "resultat = 1 \n",
    "if n < 0 :\n",
    "    print(\"Veuillez choisir un nombre positif\")\n",
    "else :      \n",
    " for i in range (1,n+1) :\n",
    "    resultat *= i \n",
    " print(\"Le factorielle de\", n, \"est\", resultat)    \n",
    "\n",
    "    "
   ]
  },
  {
   "cell_type": "code",
   "execution_count": 70,
   "metadata": {},
   "outputs": [
    {
     "name": "stdout",
     "output_type": "stream",
     "text": [
      "Le factorielle de 6 est 720\n"
     ]
    }
   ],
   "source": [
    "n = int(input(\"saisir un nombre > 0\"))\n",
    "resultat = 1\n",
    "if n < 0 :\n",
    "    print(\"Veuillez choisir un nombre positif\")\n",
    "else :    \n",
    "  i = 1\n",
    "  while i <= n : # car si i>n c'est pour n=0 ou 1 DONC on va afficher le resultat 1 car factorielle de 0 et 1 = 1\n",
    "    resultat *= i \n",
    "    i += 1    \n",
    "print(\"Le factorielle de\", n, \"est\", resultat)    "
   ]
  },
  {
   "cell_type": "code",
   "execution_count": 95,
   "metadata": {},
   "outputs": [
    {
     "name": "stdout",
     "output_type": "stream",
     "text": [
      "Le factorielle de 5 est 120\n"
     ]
    }
   ],
   "source": [
    "# CORRECTION PROF\n",
    "n = int(input(\"saisir un nombre > 0\"))\n",
    "if n < 0 :\n",
    "    print(\"Veuillez choisir un nombre positif\")\n",
    "else : \n",
    "  m = 1     \n",
    "  i = 1\n",
    "  while i <= n :\n",
    "    m *= i \n",
    "    i += 1    \n",
    "  print(\"Le factorielle de\", n, \"est\", m) "
   ]
  },
  {
   "cell_type": "markdown",
   "metadata": {
    "slideshow": {
     "slide_type": "slide"
    }
   },
   "source": [
    "---\n",
    "\n",
    "## 3. Pour aller plus loin\n",
    "\n",
    "**Excercice 9:**\n",
    "\n",
    "Ecrire un programme qui permet de connaître le jour de naissance de l'utilisateur en posant cinq questions.\n",
    "Chaque question demande si le jour est dans l'un des cinq ensembles suivants :\n",
    "\n",
    "* Set 1: \\[1 3 5 7 9 11 13 15 17 19 21 23 25 27 29 31\\]\n",
    "* Set 2: \\[2 3 6 7 10 11 14 15 18 19 22 23 26 27 30 31\\]\n",
    "* Set 3: \\[4 5 6 7 12 13 14 15 20 21 22 23 28 29 30 31\\]\n",
    "* Set 4: \\[8 9 10 11 12 13 14 15 24 25 26 27 28 29 30 31\\]\n",
    "* Set 5: \\[16 17 18 19 20 21 22 23 24 25 26 27 28 29 30 31\\]\n",
    "    \n",
    "\n",
    "Le jour de naissance est la somme des premiers nombres dans les ensembles où le jour apparaît. Par exemple,\n",
    "si le jour de naissance est 19, il apparaît dans Set 1, Set 2 et Set 5. Les premiers chiffres de ces trois ensembles sont 1, 2 et 16. Leur somme est 19."
   ]
  },
  {
   "cell_type": "code",
   "execution_count": 7,
   "metadata": {
    "slideshow": {
     "slide_type": "notes"
    }
   },
   "outputs": [
    {
     "name": "stdout",
     "output_type": "stream",
     "text": [
      "Vote jour de naissance est 30\n"
     ]
    }
   ],
   "source": [
    "jour_de_naissance = 0\n",
    "set1 = [1, 3, 5, 7, 9, 11, 13, 15, 17, 19, 21, 23, 25, 27, 29, 31]\n",
    "set2 = [2, 3, 6, 7, 10, 11, 14, 15, 18, 19, 22, 23, 26, 27, 30, 31]\n",
    "set3 = [4, 5, 6, 7, 12, 13, 14, 15, 20, 21, 22, 23, 28, 29, 30, 31]\n",
    "set4 = [8, 9, 10, 11, 12, 13, 14, 15, 24, 25, 26, 27, 28, 29, 30, 31]\n",
    "set5 = [16, 17, 18, 19, 20, 21, 22, 23, 24, 25, 26, 27, 28, 29, 30, 31]\n",
    "reponse = (input(\"Votre jour de naissance est-il dans la liste du set1 ?\"))\n",
    "if reponse == \"oui\" :\n",
    "    jour_de_naissance += 1\n",
    "reponse = (input(\"Votre jour de naissance est-il dans la liste du set2 ?\"))\n",
    "if reponse == \"oui\" :\n",
    "    jour_de_naissance += 2    \n",
    "reponse = (input(\"Votre jour de naissance est-il dans la liste du set3 ?\"))\n",
    "if reponse == \"oui\" :\n",
    "    jour_de_naissance += 4\n",
    "reponse = (input(\"Votre jour de naissance est-il dans la liste du set4 ?\"))\n",
    "if reponse == \"oui\" :\n",
    "    jour_de_naissance += 8\n",
    "reponse = (input(\"Votre jour de naissance est-il dans la liste du set5 ?\"))\n",
    "if reponse == \"oui\" :\n",
    "    jour_de_naissance += 16\n",
    "print(\"Vote jour de naissance est\", jour_de_naissance)           \n",
    "\n"
   ]
  },
  {
   "cell_type": "markdown",
   "metadata": {
    "slideshow": {
     "slide_type": "slide"
    }
   },
   "source": [
    "**Excercice 10:**\n",
    "\n",
    "Ecrire un programme qui permet de génèrer de manière aléatoire un nombre à deux chiffres, invite l'utilisateur à saisir un nombre à deux chiffres et détermine si l'utilisateur gagne selon les règles suivantes :\n",
    "* Si l'entrée de l'utilisateur correspond à la loterie (le nombre généré aléatoirement) dans l'ordre exact, la récompense est de 10 000€.\n",
    "* Sinon, si les deux chiffres entrés par l'utilisateur correspondent aux deux chiffres du numéro de loterie, la récompense est de 3 000€.\n",
    "* Sinon, si un chiffre dans l'entrée de l'utilisateur correspond à un chiffre dans le numéro de loterie, la récompense est de 1 000€.\n",
    "\n",
    "**Astuce :** Utiliser la fonction **random.randint(0, 99)** pour génèrer de manière aléatoire un nombre à deux chiffres. Cette fonction doit être accompagné par **import random** comme première instruction dans le code."
   ]
  },
  {
   "cell_type": "code",
   "execution_count": 30,
   "metadata": {
    "slideshow": {
     "slide_type": "notes"
    }
   },
   "outputs": [
    {
     "ename": "SyntaxError",
     "evalue": "invalid syntax (2594536406.py, line 11)",
     "output_type": "error",
     "traceback": [
      "\u001b[1;36m  Input \u001b[1;32mIn [30]\u001b[1;36m\u001b[0m\n\u001b[1;33m    or aleatoire_dizaine == proposition_dizaine\u001b[0m\n\u001b[1;37m    ^\u001b[0m\n\u001b[1;31mSyntaxError\u001b[0m\u001b[1;31m:\u001b[0m invalid syntax\n"
     ]
    }
   ],
   "source": [
    "import random\n",
    "nb_aleatoire = random.randint(0, 99)\n",
    "aleatoire_dizaine = nb_aleatoire // 10\n",
    "aleatoire_unité = nb_aleatoire % 10 \n",
    "proposition = int(input(\"Saisir un nombre à 2 chiffres\"))\n",
    "proposition_dizaine = proposition // 10\n",
    "proposition_unité = proposition % 10\n",
    "if proposition == nb_aleatoire :\n",
    "    print(\"Vous avez gagné 10 000 euros !\")\n",
    "elif aleatoire_dizaine == proposition_unité :\n",
    "     or aleatoire_dizaine == proposition_dizaine\n",
    "     or aleatoire_unité == proposition_unité\n",
    "     or aleatoire_unité == proposition_dizaine  \n",
    "     print(\"Vous avez gagné 3 000 euros !\")    \n",
    "else :\n",
    " print (\"Vous n'avez rien gagné. \")\n"
   ]
  },
  {
   "cell_type": "code",
   "execution_count": 31,
   "metadata": {},
   "outputs": [
    {
     "ename": "SyntaxError",
     "evalue": "invalid syntax (3880555174.py, line 1)",
     "output_type": "error",
     "traceback": [
      "\u001b[1;36m  Input \u001b[1;32mIn [31]\u001b[1;36m\u001b[0m\n\u001b[1;33m    elif aleatoire_dizaine == proposition_dizaine\\\u001b[0m\n\u001b[1;37m    ^\u001b[0m\n\u001b[1;31mSyntaxError\u001b[0m\u001b[1;31m:\u001b[0m invalid syntax\n"
     ]
    }
   ],
   "source": [
    "elif aleatoire_dizaine == proposition_dizaine\\ \n",
    " or aleatoire_dizaine == proposition_unité\\ \n",
    " or aleatoire_unité == proposition_dizaine\\ \n",
    " or aleatoire_unité == proposition_unité:\n",
    " print (\"Vous avez gagné 1 000€ !\")"
   ]
  },
  {
   "cell_type": "markdown",
   "metadata": {},
   "source": [
    "**Exercice 11:**\n",
    "    \n",
    "Ecrire un programme qui permet de calculer la somme des chiffres d'un entier *n* donné. Le nombre *n* doit être compris entre 10 et 20 (bornes incluses)."
   ]
  },
  {
   "cell_type": "code",
   "execution_count": 66,
   "metadata": {},
   "outputs": [
    {
     "name": "stdout",
     "output_type": "stream",
     "text": [
      "10\n",
      "21\n",
      "33\n",
      "46\n",
      "60\n",
      "75\n",
      "91\n",
      "108\n",
      "126\n",
      "145\n",
      "165\n",
      "La somme des nombres compris entre 10 et 20 inclus est 165\n"
     ]
    }
   ],
   "source": [
    "somme = 0\n",
    "for i in range (10, 21) :\n",
    " somme += i\n",
    " print(somme)\n",
    "print(\"La somme des nombres compris entre 10 et 20 inclus est\", somme) \n",
    " "
   ]
  },
  {
   "cell_type": "markdown",
   "metadata": {},
   "source": [
    "**Exercice 12:**\n",
    "\n",
    "1. Ecrire un programme qui permet de générer aléatoirement deux nombres entre 0 et 9, de calculer leurs différences (en valeur absolue), puis d'inviter l'utilisateur à répondre à la question suivante *que vaut abs(number1 - number2)?*. Le programme doit permettre à l'utilisateur de répondre plusieurs fois jusqu'à la saisie de la bonne réponse.\n",
    "2. Modifier le programme précédent de telle sorte qu'il génère cinq occurences à la suite invitant à répondre à la question précédente. A la fin, le programme affiche le nombre moyen de tentatives qu'il a fallu à l'utilisateur pour répondre à une question."
   ]
  },
  {
   "cell_type": "code",
   "execution_count": 110,
   "metadata": {
    "tags": []
   },
   "outputs": [
    {
     "name": "stdout",
     "output_type": "stream",
     "text": [
      "bravo\n"
     ]
    }
   ],
   "source": [
    "import random\n",
    "a = random.randint(0, 9)\n",
    "b = random.randint(0, 9)\n",
    "d = a - b\n",
    "if d < 0 :\n",
    "   d = b - a \n",
    "c = 0\n",
    "while not c == d :\n",
    "   c = int(input(\"Que vaut la différence ?\"))\n",
    "print(\"bravo\")    \n",
    "\n",
    "\n"
   ]
  },
  {
   "cell_type": "code",
   "execution_count": 113,
   "metadata": {},
   "outputs": [
    {
     "name": "stdout",
     "output_type": "stream",
     "text": [
      "BRAVO !\n"
     ]
    }
   ],
   "source": [
    "# correction prof\n",
    "import random\n",
    "\n",
    "from importlib_metadata import packages_distributions\n",
    "a = random.randint(0, 9)\n",
    "b = random.randint(0, 9)\n",
    "r = abs(a-b) # abs = valeur absolue \n",
    "d = -1 # il ne faut pas l'initialisé avec un nb de l'intervalle 0-9 OU SINON ECRIRE DIRECT d=int(input(\"\"))\n",
    "while d != r : # tant que d n'est pas = à r SAISIR un nombre puis refaire boucle.....\n",
    "    d = int(input(\"Saisir un nb\"))\n",
    "print(\"BRAVO !\")    "
   ]
  },
  {
   "cell_type": "code",
   "execution_count": 115,
   "metadata": {},
   "outputs": [
    {
     "ename": "ValueError",
     "evalue": "invalid literal for int() with base 10: ''",
     "output_type": "error",
     "traceback": [
      "\u001b[1;31m---------------------------------------------------------------------------\u001b[0m",
      "\u001b[1;31mValueError\u001b[0m                                Traceback (most recent call last)",
      "\u001b[1;32mc:\\Users\\rizla\\DOSSIER pour l'info  LSIN100N\\l1-python\\exercises\\TD02_structures_controle\\02_structures_controle.ipynb Cellule 42\u001b[0m in \u001b[0;36m<cell line: 4>\u001b[1;34m()\u001b[0m\n\u001b[0;32m      <a href='vscode-notebook-cell:/c%3A/Users/rizla/DOSSIER%20pour%20l%27info%20%20LSIN100N/l1-python/exercises/TD02_structures_controle/02_structures_controle.ipynb#Y113sZmlsZQ%3D%3D?line=8'>9</a>\u001b[0m nombres_essais \u001b[39m=\u001b[39m \u001b[39m0\u001b[39m\n\u001b[0;32m     <a href='vscode-notebook-cell:/c%3A/Users/rizla/DOSSIER%20pour%20l%27info%20%20LSIN100N/l1-python/exercises/TD02_structures_controle/02_structures_controle.ipynb#Y113sZmlsZQ%3D%3D?line=9'>10</a>\u001b[0m \u001b[39mwhile\u001b[39;00m proposition \u001b[39m!=\u001b[39m d :\n\u001b[1;32m---> <a href='vscode-notebook-cell:/c%3A/Users/rizla/DOSSIER%20pour%20l%27info%20%20LSIN100N/l1-python/exercises/TD02_structures_controle/02_structures_controle.ipynb#Y113sZmlsZQ%3D%3D?line=10'>11</a>\u001b[0m     proposition \u001b[39m=\u001b[39m \u001b[39mint\u001b[39;49m(\u001b[39minput\u001b[39;49m(\u001b[39m\"\u001b[39;49m\u001b[39mQue vaut la différence ?\u001b[39;49m\u001b[39m\"\u001b[39;49m))\n\u001b[0;32m     <a href='vscode-notebook-cell:/c%3A/Users/rizla/DOSSIER%20pour%20l%27info%20%20LSIN100N/l1-python/exercises/TD02_structures_controle/02_structures_controle.ipynb#Y113sZmlsZQ%3D%3D?line=11'>12</a>\u001b[0m     nombres_essais \u001b[39m+\u001b[39m\u001b[39m=\u001b[39m \u001b[39m1\u001b[39m\n\u001b[0;32m     <a href='vscode-notebook-cell:/c%3A/Users/rizla/DOSSIER%20pour%20l%27info%20%20LSIN100N/l1-python/exercises/TD02_structures_controle/02_structures_controle.ipynb#Y113sZmlsZQ%3D%3D?line=12'>13</a>\u001b[0m nombres_essais_tot \u001b[39m+\u001b[39m\u001b[39m=\u001b[39m nombres_essais \n",
      "\u001b[1;31mValueError\u001b[0m: invalid literal for int() with base 10: ''"
     ]
    }
   ],
   "source": [
    "# 2ième partie de l'exo 2\n",
    "import random\n",
    "nombres_essais_tot = 0\n",
    "for i in range (5) :\n",
    "    a = random.randint(0, 9)\n",
    "    b = random.randint(0, 9)\n",
    "    d = abs(a-b)\n",
    "    proposition = -1\n",
    "    nombres_essais = 0\n",
    "    while proposition != d\n",
    "        proposition = int(input(\"Que vaut la différence ?\"))\n",
    "        nombres_essais += 1\n",
    "    nombres_essais_tot += nombres_essais \n",
    "print(\"Bravo ! En moyenne, vous avez réussi en\", nombres_essais_tot/5 )        \n"
   ]
  },
  {
   "cell_type": "code",
   "execution_count": 118,
   "metadata": {},
   "outputs": [
    {
     "name": "stdout",
     "output_type": "stream",
     "text": [
      "8.2\n"
     ]
    }
   ],
   "source": [
    "import random\n",
    "essai = 0\n",
    "for i in range(1, 6) :\n",
    "    nb1 = random.randint(0,9)\n",
    "    nb2 = random.randint(0,9)\n",
    "    rep = abs(nb1-nb2) \n",
    "    pro = -1 \n",
    "    nb_essai = 0\n",
    "    while pro != rep :\n",
    "        pro = int(input(\"Proposition\"))\n",
    "        nb_essai += 1\n",
    "    essai += nb_essai    \n",
    "print(essai/5)    "
   ]
  },
  {
   "cell_type": "markdown",
   "metadata": {},
   "source": [
    "**Exercice 13:**\n",
    "\n",
    "Ecrire un programme qui permet de calculer le nombre de mots dans une phrase saisie par l'utilisateur."
   ]
  },
  {
   "cell_type": "code",
   "execution_count": 10,
   "metadata": {
    "tags": []
   },
   "outputs": [
    {
     "name": "stdout",
     "output_type": "stream",
     "text": [
      "Dans il était une fois il y a 17 mots.\n"
     ]
    }
   ],
   "source": [
    "phrase_saisie = input(\"Saisir une phrase\")\n",
    "print(\"Dans\", phrase_saisie, \"il y a\", len(phrase_saisie), \"mots.\")"
   ]
  },
  {
   "cell_type": "markdown",
   "metadata": {
    "slideshow": {
     "slide_type": "slide"
    }
   },
   "source": [
    "---\n",
    "\n",
    "## 4. Pour s'entraîner\n",
    "\n",
    "**Exercice 14:**\n",
    "    \n",
    "Soit la variable my_input = \"zoophysiology\". Ecrire un script qui permet d'afficher l'un des messages suivants en fonction du nombre maximum de *o* consécutifs dans la variable *my_input*. Par exemple, le script doit afficher \"I like studying birds! I want to become an ornithologist!\" parce qu'il y a deux *o* consécutifs, même s'il y a aussi des *o* individual.\n",
    "Ignorer les *o* majuscules - recherchez que les *o* minuscules.\n",
    "\n",
    "* Si \"o\" apparaît trois fois ou plus de suite, afficher le message \"I like going to the zoo!\"  \n",
    "* Si \"o\" apparaît deux fois, afficher le message \"I like studying birds! I want to become an ornithologist!\"  \n",
    "* Si \"o\" apparaît une seule fois, afficher le message \"I like studying fish! I want to become an ichthyologist!\"  \n",
    "* Si \"o\" n'apparaît pas dans la variable *my_input*, afficher le message \"I miss going to the zoo!\"  \n",
    "\n",
    "**Astuce :** Utiliser l'opérateur **in** qui renvoie **True** si la première chaîne se trouve dans la deuxième chaîne. "
   ]
  },
  {
   "cell_type": "code",
   "execution_count": 4,
   "metadata": {
    "slideshow": {
     "slide_type": "notes"
    }
   },
   "outputs": [
    {
     "name": "stdout",
     "output_type": "stream",
     "text": [
      "I like studying birds! I want to become an ornithologist!\n"
     ]
    }
   ],
   "source": [
    "my_input = \"zoophysiology\"\n",
    "if \"ooo\" in my_input :\n",
    "  print(\"I like going to the zoo!\")\n",
    "elif \"oo\" in my_input :\n",
    "  print(\"I like studying birds! I want to become an ornithologist!\")\n",
    "elif \"o\" in my_input :\n",
    "  print(\"I like studying fish! I want to become an ichthyologist!\")\n",
    "else :\n",
    " print(\"I miss going to the zoo!\")\n"
   ]
  },
  {
   "cell_type": "markdown",
   "metadata": {
    "slideshow": {
     "slide_type": "slide"
    }
   },
   "source": [
    "**Exercice 15:**\n",
    "    \n",
    "Créer quatre variables nommées *team_1* et *team_2*, représentant deux noms d'équipes, et *team_1_score* et *team_2_score*, représentant les scores de ces deux équipes. \n",
    "Une équipe gagne si son score est supérieur à l'autre score de l'autre équipe.\n",
    " \n",
    "Ecrire un premier script qui permet d'afficher les messages suivants selon les valeurs entrées, ceci en utilisant seulement les quatres variables créées :\n",
    "* Si une équipe bat l'autre, affichez: \"\\[winner\\] beat \\[loser\\] by \\[margin\\]\"\n",
    "* Si aucune des équipes n'a gagné, affichez: \"\\[team_1\\] played \\[team_2\\] and it was a tie\"\n",
    "\n",
    "Ecrire un deuxième script qui permet d'afficher les mêmes messages mais en ajoutant trois variables de plus :\n",
    "* La variable *winner* pour définir l'équipe gagnante  \n",
    "* La variable *loser* pour définier l'équipe perdante  \n",
    "* La variable *margin* pour définir la différence entre les deux scores \n"
   ]
  },
  {
   "cell_type": "code",
   "execution_count": 4,
   "metadata": {
    "slideshow": {
     "slide_type": "notes"
    }
   },
   "outputs": [
    {
     "ename": "TypeError",
     "evalue": "unsupported operand type(s) for -: 'str' and 'str'",
     "output_type": "error",
     "traceback": [
      "\u001b[1;31m---------------------------------------------------------------------------\u001b[0m",
      "\u001b[1;31mTypeError\u001b[0m                                 Traceback (most recent call last)",
      "\u001b[1;32mc:\\Users\\rizla\\DOSSIER pour l'info  LSIN100N\\l1-python\\exercises\\TD02_structures_controle\\02_structures_controle.ipynb Cellule 42\u001b[0m in \u001b[0;36m<cell line: 5>\u001b[1;34m()\u001b[0m\n\u001b[0;32m      <a href='vscode-notebook-cell:/c%3A/Users/rizla/DOSSIER%20pour%20l%27info%20%20LSIN100N/l1-python/exercises/TD02_structures_controle/02_structures_controle.ipynb#X56sZmlsZQ%3D%3D?line=5'>6</a>\u001b[0m     \u001b[39mprint\u001b[39m(a, \u001b[39m\"\u001b[39m\u001b[39mbeat\u001b[39m\u001b[39m\"\u001b[39m, b, \u001b[39m\"\u001b[39m\u001b[39mby\u001b[39m\u001b[39m\"\u001b[39m, (c\u001b[39m-\u001b[39md) )\n\u001b[0;32m      <a href='vscode-notebook-cell:/c%3A/Users/rizla/DOSSIER%20pour%20l%27info%20%20LSIN100N/l1-python/exercises/TD02_structures_controle/02_structures_controle.ipynb#X56sZmlsZQ%3D%3D?line=6'>7</a>\u001b[0m \u001b[39melif\u001b[39;00m d \u001b[39m>\u001b[39m c :\n\u001b[1;32m----> <a href='vscode-notebook-cell:/c%3A/Users/rizla/DOSSIER%20pour%20l%27info%20%20LSIN100N/l1-python/exercises/TD02_structures_controle/02_structures_controle.ipynb#X56sZmlsZQ%3D%3D?line=7'>8</a>\u001b[0m     \u001b[39mprint\u001b[39m(b, \u001b[39m\"\u001b[39m\u001b[39mbeat\u001b[39m\u001b[39m\"\u001b[39m, a, \u001b[39m\"\u001b[39m\u001b[39mby\u001b[39m\u001b[39m\"\u001b[39m, (d\u001b[39m-\u001b[39;49mc) )\n",
      "\u001b[1;31mTypeError\u001b[0m: unsupported operand type(s) for -: 'str' and 'str'"
     ]
    }
   ],
   "source": [
    "a = \"team1\" \n",
    "b = \"team2\" \n",
    "c = \"team_1_score\"\n",
    "d = \"team_2_score\"\n",
    "if c > d :\n",
    "    print(a, \"beat\", b, \"by\", (c-d) )\n",
    "elif d > c :\n",
    "    print(b, \"beat\", a, \"by\", (d-c) )    "
   ]
  },
  {
   "cell_type": "code",
   "execution_count": null,
   "metadata": {
    "slideshow": {
     "slide_type": "notes"
    }
   },
   "outputs": [],
   "source": []
  },
  {
   "cell_type": "markdown",
   "metadata": {
    "slideshow": {
     "slide_type": "slide"
    }
   },
   "source": [
    "**Exercice 16:**\n",
    "    \n",
    "L'Indice de Masse Corporelle (IMC) permet d'estimer le poids idéal en fonction de la taille. Son calcul correspond au poids en kilogrammes divisé par le carré de la taille en mètre (IMC = poids en kg/taille² en m). Le chiffre obtenu permet d'estimer la corpulence et éventuellement le surpoids ou l'obésité chez l'adulte, homme ou femme.\n",
    "L'interprétation de l'IMC pour les personnes de 16 ans et plus est la suivante :\n",
    "* Moins de 18.5: Underweight\n",
    "* Entre 18.5 et 24.9: Normal\n",
    "* Entre 25.0 et 29.9: Overweight\n",
    "* Plus que 30.0: Obese\n",
    "\n",
    "Ecrire un programme qui permet de saisir un poids en *pounds* et une taille en *inches*, de calculer et d'afficher l'IMC à deux valeurs après la virgule, et d'afficher l'interprétation la plus adéquate. Notez qu'un *pound* équivaut à 0,45359237 kilogrammes et qu'un *inch* équivaut à 0,0254 mètre.  \n",
    "\n",
    "**Astuce :** Pour afficher deux valeurs après la virgule, utilisez la fonction **format(nom_variable, \".2f\")**. Exemple : **print('La moyenne est :', format(moyenne, \".2f\"))**"
   ]
  },
  {
   "cell_type": "code",
   "execution_count": 25,
   "metadata": {
    "slideshow": {
     "slide_type": "notes"
    }
   },
   "outputs": [
    {
     "name": "stdout",
     "output_type": "stream",
     "text": [
      "Vous faites 0.86 mètres pour 2.86 kilos\n",
      "Underweight\n"
     ]
    }
   ],
   "source": [
    "poids = float(input(\"Saisir un poinds en pounds\"))\n",
    "taille = float(input(\"Saisir une taille en inches\"))\n",
    "poids *= 0.45359237\n",
    "taille *= 0.0254\n",
    "print(\"Vous faites\", format(taille, \".2f\"), \"mètres pour\", format(poids, \".2f\"), \"kilos\") \n",
    "imc = poids / (taille**2)\n",
    "if imc < 18.5 :\n",
    "  print(\"Underweight\")\n",
    "elif imc <=24.9 :  \n",
    "    print(\"Normal\")\n",
    "elif imc <= 29.9 :\n",
    "    print(\"Overweight\")    \n",
    "elif imc >= 30 :\n",
    "    print(\"Obese\")    "
   ]
  },
  {
   "cell_type": "markdown",
   "metadata": {},
   "source": [
    "**Exercice 17:**\n",
    "\n",
    "Ecrire un programme qui affiche un triangle d'étoiles de taille donnée, par exemple si on entre 6, le programme affiche:\n",
    "```\n",
    "*\n",
    "**\n",
    "***\n",
    "****\n",
    "*****\n",
    "******\n",
    "```"
   ]
  },
  {
   "cell_type": "code",
   "execution_count": 5,
   "metadata": {
    "tags": []
   },
   "outputs": [
    {
     "name": "stdout",
     "output_type": "stream",
     "text": [
      "*\n",
      "**\n",
      "***\n",
      "****\n",
      "*****\n",
      "******\n"
     ]
    }
   ],
   "source": [
    "n = int(input(\"Saisir un nombre qui sera la taille du triangle d'étoile\"))\n",
    "for i in range (1, n + 1) :\n",
    "  print(\"*\" * i)"
   ]
  },
  {
   "cell_type": "markdown",
   "metadata": {},
   "source": [
    "**Exercice 18:**\n",
    "\n",
    "Même exercice mais cette fois la sortie est\n",
    "```\n",
    "     *\n",
    "    **         \n",
    "   ***\n",
    "  ****\n",
    " *****\n",
    "******\n",
    "```"
   ]
  },
  {
   "cell_type": "code",
   "execution_count": 101,
   "metadata": {
    "tags": []
   },
   "outputs": [
    {
     "name": "stdout",
     "output_type": "stream",
     "text": [
      "     *\n",
      "    **\n",
      "   ***\n",
      "  ****\n",
      " *****\n",
      "******\n"
     ]
    }
   ],
   "source": [
    "n = int(input(\"Saisir un nombre qui sera la taille du triangle d'étoile\"))\n",
    "for i in range (1, n + 1) :\n",
    "  print(\" \"*(n-i) + \"*\" * i)"
   ]
  },
  {
   "cell_type": "markdown",
   "metadata": {},
   "source": [
    "**Exercice 19:**\n",
    "\n",
    "Ecrire un programme qui calcule, étant donné un entier *n* rentré par l'utilisateur, la plus grande puissance de *n* inférieure à un million."
   ]
  },
  {
   "cell_type": "code",
   "execution_count": 3,
   "metadata": {
    "tags": []
   },
   "outputs": [
    {
     "name": "stdout",
     "output_type": "stream",
     "text": [
      "La plus grande puissance de 4 inférieur à 1 million est 10\n"
     ]
    }
   ],
   "source": [
    "n = int(input(\"Saisir un entier\"))\n",
    "resultat, puissance = 0, 0\n",
    "while resultat < 1000000 :\n",
    "    puissance += 1\n",
    "    resultat = n ** (puissance)\n",
    "print (\"La plus grande puissance de\",n, \"inférieur à 1 million est\", puissance)    "
   ]
  }
 ],
 "metadata": {
  "celltoolbar": "Diaporama",
  "kernelspec": {
   "display_name": "Python 3.10.4 ('l1-python')",
   "language": "python",
   "name": "python3"
  },
  "language_info": {
   "codemirror_mode": {
    "name": "ipython",
    "version": 3
   },
   "file_extension": ".py",
   "mimetype": "text/x-python",
   "name": "python",
   "nbconvert_exporter": "python",
   "pygments_lexer": "ipython3",
   "version": "3.10.4"
  },
  "vscode": {
   "interpreter": {
    "hash": "c6e9470f662aa8059394b08554de75ee70a7de1c7caed23074225a709efe2be8"
   }
  }
 },
 "nbformat": 4,
 "nbformat_minor": 4
}
